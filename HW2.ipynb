{
  "nbformat": 4,
  "nbformat_minor": 0,
  "metadata": {
    "colab": {
      "provenance": [],
      "toc_visible": true,
      "authorship_tag": "ABX9TyM6dOCiDSNImDHyvdlTVioz",
      "include_colab_link": true
    },
    "kernelspec": {
      "name": "python3",
      "display_name": "Python 3"
    },
    "language_info": {
      "name": "python"
    }
  },
  "cells": [
    {
      "cell_type": "markdown",
      "metadata": {
        "id": "view-in-github",
        "colab_type": "text"
      },
      "source": [
        "<a href=\"https://colab.research.google.com/github/johnwu0113/TTU/blob/I4810/HW2.ipynb\" target=\"_parent\"><img src=\"https://colab.research.google.com/assets/colab-badge.svg\" alt=\"Open In Colab\"/></a>"
      ]
    },
    {
      "cell_type": "markdown",
      "source": [
        "# py4e(pdf): Exercise 4, p.105"
      ],
      "metadata": {
        "id": "_K-Urvbvph8L"
      }
    },
    {
      "cell_type": "markdown",
      "source": [
        "Exercise 4: Find all unique words in a file Shakespeare used over 20,000 words in his works. But how would you determine that? How would you produce the list of all the words that Shakespeare used? Would you download all his work, read it and track all unique words by hand?\n",
        "\n",
        "Let’s use Python to achieve that instead. List all unique words, sorted in alphabetical order, that are stored in a file romeo.txt containing a subset of Shakespeare’s work.\n",
        "\n",
        "To get started, download a copy of the file www.py4e.com/code3/romeo.txt.\n",
        "Create a list of unique words, which will contain the final result. Write\n",
        "a program to open the file romeo.txt and read it line by line. For each line, split the line into a list of words using the split function. For\n",
        "each word, check to see if the word is already in the list of unique\n",
        "words. If the word is not in the list of unique words, add it to the list.\n",
        "When the program completes, sort and print the list of unique words\n",
        "in alphabetical order.\n",
        "\n",
        "```\n",
        "Enter file: romeo.txt\n",
        "['Arise', 'But', 'It', 'Juliet', 'Who', 'already',\n",
        "'and', 'breaks', 'east', 'envious', 'fair', 'grief',\n",
        "'is', 'kill', 'light', 'moon', 'pale', 'sick', 'soft',\n",
        "'sun', 'the', 'through', 'what', 'window',\n",
        "'with', 'yonder']\n",
        "\n",
        "```\n",
        "\n",
        "\n"
      ],
      "metadata": {
        "id": "LNVeYgLPqMRq"
      }
    },
    {
      "cell_type": "code",
      "source": [
        "# download file\n",
        "!wget www.py4e.com/code3/romeo.txt"
      ],
      "metadata": {
        "id": "5nZ1cCfAscQG",
        "colab": {
          "base_uri": "https://localhost:8080/"
        },
        "outputId": "b5e0594f-11a6-478c-98aa-f165d9cca59a"
      },
      "execution_count": null,
      "outputs": [
        {
          "output_type": "stream",
          "name": "stdout",
          "text": [
            "--2022-10-11 13:11:33--  http://www.py4e.com/code3/romeo.txt\n",
            "Resolving www.py4e.com (www.py4e.com)... 104.21.5.179, 172.67.133.177, 2606:4700:3034::ac43:85b1, ...\n",
            "Connecting to www.py4e.com (www.py4e.com)|104.21.5.179|:80... connected.\n",
            "HTTP request sent, awaiting response... 301 Moved Permanently\n",
            "Location: https://www.py4e.com/code3/romeo.txt [following]\n",
            "--2022-10-11 13:11:33--  https://www.py4e.com/code3/romeo.txt\n",
            "Connecting to www.py4e.com (www.py4e.com)|104.21.5.179|:443... connected.\n",
            "HTTP request sent, awaiting response... 200 OK\n",
            "Length: unspecified [text/plain]\n",
            "Saving to: ‘romeo.txt’\n",
            "\n",
            "\rromeo.txt               [<=>                 ]       0  --.-KB/s               \rromeo.txt               [ <=>                ]     167  --.-KB/s    in 0s      \n",
            "\n",
            "2022-10-11 13:11:33 (9.94 MB/s) - ‘romeo.txt’ saved [167]\n",
            "\n"
          ]
        }
      ]
    },
    {
      "cell_type": "code",
      "source": [
        "# check file\n",
        "!ls romeo.txt"
      ],
      "metadata": {
        "id": "v-yrGKYvshIR",
        "colab": {
          "base_uri": "https://localhost:8080/"
        },
        "outputId": "9311f451-54dc-4140-b5a1-788d8c129376"
      },
      "execution_count": null,
      "outputs": [
        {
          "output_type": "stream",
          "name": "stdout",
          "text": [
            "romeo.txt\n"
          ]
        }
      ]
    },
    {
      "cell_type": "code",
      "source": [
        "fname = input(\"Enter file: (HINT:romeo.txt)\")\n",
        "try: \n",
        "    fhand = open(fname)\n",
        "except: \n",
        "    print('file cannot be opened:', fname)\n",
        "    exit()\n",
        "lst = list()\n",
        "# for each line, split the line into a list of words using the split function.\n",
        "for line in fhand:\n",
        "  line = line.rstrip()\n",
        "  for word in line.split():\n",
        "    # let list as unique words\n",
        "    # alternative soltion, lst = list(set(lst))\n",
        "    if word not in lst:\n",
        "      lst.append(word) \n",
        "      # for characters lowercase\n",
        "      # lst.append(word.lower())\n",
        "    # sort the list\n",
        "    lst.sort()\n",
        "print (lst) "
      ],
      "metadata": {
        "id": "emUreorWzj8q"
      },
      "execution_count": null,
      "outputs": []
    },
    {
      "cell_type": "markdown",
      "source": [
        "\n",
        "---\n",
        "# py4e(pdf): Exercise 2, p.117"
      ],
      "metadata": {
        "id": "fAMs1XoIpij1"
      }
    },
    {
      "cell_type": "markdown",
      "source": [
        "Exercise 2: Write a program that categorizes each mail message by which day of the week the commit was done. To do this look for lines that start with “From”, then look for the third word and keep a running count of each of the days of the week. At the end of the program print out the contents of your dictionary (order does not matter).\n",
        "\n",
        "Sample Line:\n",
        "\n",
        "```\n",
        "From stephen.marquard@uct.ac.za Sat Jan 5 09:14:16 2008\n",
        "```\n",
        "\n",
        "Sample Execution:\n",
        "\n",
        "```\n",
        "python dow.py\n",
        "Enter a file name: mbox-short.txt\n",
        "{'Fri': 20, 'Thu': 6, 'Sat': 1}\n",
        "\n",
        "```\n",
        "\n",
        "\n",
        "\n",
        "\n"
      ],
      "metadata": {
        "id": "Vb4s3YxJqLQE"
      }
    },
    {
      "cell_type": "code",
      "source": [
        "# download file\n",
        "!wget https://www.py4e.com/code3/mbox-short.txt"
      ],
      "metadata": {
        "colab": {
          "base_uri": "https://localhost:8080/"
        },
        "id": "lpVB_j2J78rP",
        "outputId": "56e150a6-b960-479e-df6e-7d5e45a14dd7"
      },
      "execution_count": null,
      "outputs": [
        {
          "output_type": "stream",
          "name": "stdout",
          "text": [
            "--2022-10-11 13:12:08--  https://www.py4e.com/code3/mbox-short.txt\n",
            "Resolving www.py4e.com (www.py4e.com)... 172.67.133.177, 104.21.5.179, 2606:4700:3036::6815:5b3, ...\n",
            "Connecting to www.py4e.com (www.py4e.com)|172.67.133.177|:443... connected.\n",
            "HTTP request sent, awaiting response... 200 OK\n",
            "Length: unspecified [text/plain]\n",
            "Saving to: ‘mbox-short.txt’\n",
            "\n",
            "\rmbox-short.txt          [<=>                 ]       0  --.-KB/s               \rmbox-short.txt          [ <=>                ]  92.41K  --.-KB/s    in 0.01s   \n",
            "\n",
            "2022-10-11 13:12:08 (7.02 MB/s) - ‘mbox-short.txt’ saved [94626]\n",
            "\n"
          ]
        }
      ]
    },
    {
      "cell_type": "code",
      "source": [
        "# check file\n",
        "!ls"
      ],
      "metadata": {
        "colab": {
          "base_uri": "https://localhost:8080/"
        },
        "id": "jkQqEYyn8ChP",
        "outputId": "1d2cca25-e45a-452a-d3dd-ba7b2bd623c5"
      },
      "execution_count": null,
      "outputs": [
        {
          "output_type": "stream",
          "name": "stdout",
          "text": [
            "mbox-short.txt\tromeo.txt  sample_data\n"
          ]
        }
      ]
    },
    {
      "cell_type": "code",
      "source": [
        "fname = input(\"Enter a file name: (HINT:mbox-short.txt)\")\n",
        "try: \n",
        "    fhand = open(fname)\n",
        "except: \n",
        "    print('file cannot be opened:', fname)\n",
        "    exit()\n",
        "counts = dict()\n",
        "for line in fhand:\n",
        "  line = line.rstrip()\n",
        "  # looking for lines that start with “From”\n",
        "  if not line.startswith('From '): continue\n",
        "  # word split from line\n",
        "  words = line.split()\n",
        "  # print (words[2])  \n",
        "  if words[2] in counts:\n",
        "    counts[words[2]] += 1\n",
        "  else:\n",
        "    counts[words[2]] = 1\n",
        "print (counts)  "
      ],
      "metadata": {
        "colab": {
          "base_uri": "https://localhost:8080/"
        },
        "id": "s8F4RYJx5f_Q",
        "outputId": "54d262ed-8115-41d1-9169-b3186a56f7cd"
      },
      "execution_count": null,
      "outputs": [
        {
          "output_type": "stream",
          "name": "stdout",
          "text": [
            "Enter a file name: (HINT:mbox-short.txt)mbox-short.txt\n",
            "{'Sat': 1, 'Fri': 20, 'Thu': 6}\n"
          ]
        }
      ]
    },
    {
      "cell_type": "markdown",
      "source": [
        "---\n",
        "# py4e(pdf): Exercise 3, p.118"
      ],
      "metadata": {
        "id": "_-wlk_3upjIW"
      }
    },
    {
      "cell_type": "markdown",
      "source": [
        "Exercise 3: Write a program to read through a mail log, build a his\u0002togram using a dictionary to count how many messages have come from each email address, and print the dictionary.\n",
        "\n",
        "```\n",
        "Enter file name: mbox-short.txt\n",
        "{'gopal.ramasammycook@gmail.com': 1, 'louis@media.berkeley.edu': 3, 'cwen@iupui.edu': 5, 'antranig@caret.cam.ac.uk': 1, 'rjlowe@iupui.edu': 2, 'gsilver@umich.edu': 3, 'david.horwitz@uct.ac.za': 4, 'wagnermr@iupui.edu': 1, 'zqian@umich.edu': 4, 'stephen.marquard@uct.ac.za': 2, 'ray@media.berkeley.edu': 1}\n",
        "\n",
        "```\n",
        "\n"
      ],
      "metadata": {
        "id": "sqGPbzaqqNeG"
      }
    },
    {
      "cell_type": "code",
      "source": [
        "# check file\n",
        "!ls"
      ],
      "metadata": {
        "colab": {
          "base_uri": "https://localhost:8080/"
        },
        "id": "N4Iixq1UAgGk",
        "outputId": "40f1f3e0-956f-45bc-f8d6-3a7f542f9986"
      },
      "execution_count": null,
      "outputs": [
        {
          "output_type": "stream",
          "name": "stdout",
          "text": [
            "mbox-short.txt\tromeo.txt  sample_data\n"
          ]
        }
      ]
    },
    {
      "cell_type": "code",
      "source": [
        "fname = input(\"Enter file name: (HINT:mbox-short.txt)\")\n",
        "try: \n",
        "    fhand = open(fname)\n",
        "except: \n",
        "    print('file cannot be opened:', fname)\n",
        "    exit()\n",
        "counts = dict()\n",
        "for line in fhand:\n",
        "  line = line.rstrip()\n",
        "  # looking for lines that start with “From”\n",
        "  if not line.startswith('From '): continue\n",
        "  # word split from line\n",
        "  words = line.split()\n",
        "  #print (words[1]) \n",
        "  if words[1] in counts:\n",
        "    counts[words[1]] += 1\n",
        "  else:\n",
        "    counts[words[1]] = 1\n",
        "print (counts)  "
      ],
      "metadata": {
        "colab": {
          "base_uri": "https://localhost:8080/"
        },
        "id": "GsWOBJJuBWHx",
        "outputId": "fdba8058-f14c-4fc1-8f3a-773a95fa34ee"
      },
      "execution_count": null,
      "outputs": [
        {
          "output_type": "stream",
          "name": "stdout",
          "text": [
            "Enter file name: (HINT:mbox-short.txt)mbox-short.txt\n",
            "{'stephen.marquard@uct.ac.za': 2, 'louis@media.berkeley.edu': 3, 'zqian@umich.edu': 4, 'rjlowe@iupui.edu': 2, 'cwen@iupui.edu': 5, 'gsilver@umich.edu': 3, 'wagnermr@iupui.edu': 1, 'antranig@caret.cam.ac.uk': 1, 'gopal.ramasammycook@gmail.com': 1, 'david.horwitz@uct.ac.za': 4, 'ray@media.berkeley.edu': 1}\n"
          ]
        }
      ]
    }
  ]
}